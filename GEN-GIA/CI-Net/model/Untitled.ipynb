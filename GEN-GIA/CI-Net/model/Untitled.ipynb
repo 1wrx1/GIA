{
 "cells": [
  {
   "cell_type": "code",
   "execution_count": 1,
   "id": "1a3875b0-3855-4154-9087-043830174251",
   "metadata": {},
   "outputs": [],
   "source": [
    "import torch"
   ]
  },
  {
   "cell_type": "code",
   "execution_count": 4,
   "id": "03243356-877c-4767-8e37-c2076d745997",
   "metadata": {},
   "outputs": [
    {
     "name": "stdout",
     "output_type": "stream",
     "text": [
      "[[0, 1], [0, 3], [1, 1]]\n"
     ]
    },
    {
     "ename": "TypeError",
     "evalue": "only integer tensors of a single element can be converted to an index",
     "output_type": "error",
     "traceback": [
      "\u001b[0;31m---------------------------------------------------------------------------\u001b[0m",
      "\u001b[0;31mTypeError\u001b[0m                                 Traceback (most recent call last)",
      "Cell \u001b[0;32mIn[4], line 20\u001b[0m\n\u001b[1;32m     17\u001b[0m     zero_indices \u001b[38;5;241m=\u001b[39m [zero_indices]\n\u001b[1;32m     19\u001b[0m \u001b[38;5;66;03m# 从 list1 中移除为 0 的元素\u001b[39;00m\n\u001b[0;32m---> 20\u001b[0m filtered_tensor1 \u001b[38;5;241m=\u001b[39m torch\u001b[38;5;241m.\u001b[39mtensor([val \u001b[38;5;28;01mfor\u001b[39;00m idx, val \u001b[38;5;129;01min\u001b[39;00m \u001b[38;5;28menumerate\u001b[39m(list1[i]) \u001b[38;5;28;01mif\u001b[39;00m idx \u001b[38;5;129;01mnot\u001b[39;00m \u001b[38;5;129;01min\u001b[39;00m zero_indices])\n\u001b[1;32m     22\u001b[0m \u001b[38;5;66;03m# 从 list2 中移除相同位置的元素\u001b[39;00m\n\u001b[1;32m     23\u001b[0m filtered_tensor2 \u001b[38;5;241m=\u001b[39m torch\u001b[38;5;241m.\u001b[39mtensor([val \u001b[38;5;28;01mfor\u001b[39;00m idx, val \u001b[38;5;129;01min\u001b[39;00m \u001b[38;5;28menumerate\u001b[39m(list2[i]) \u001b[38;5;28;01mif\u001b[39;00m idx \u001b[38;5;129;01mnot\u001b[39;00m \u001b[38;5;129;01min\u001b[39;00m zero_indices])\n",
      "\u001b[0;31mTypeError\u001b[0m: only integer tensors of a single element can be converted to an index"
     ]
    }
   ],
   "source": [
    "# 假设两个 tensor 列表\n",
    "list1 = [torch.tensor([[1, 0, 3, 0], [1, 0, 2, 3]]), torch.tensor([4, 5, 0, 7])]\n",
    "list2 = [torch.tensor([[1, 2, 3, 4], [1, 5, 2, 6]]), torch.tensor([12, 13, 14, 15])]\n",
    "\n",
    "# 保存去除0元素后的 tensor 列表\n",
    "filtered_list1 = []\n",
    "filtered_list2 = []\n",
    "\n",
    "for i in range(len(list1)):\n",
    "    # 获取 list1 中 tensor 为 0 的元素的索引\n",
    "    zero_indices = torch.nonzero(list1[i] == 0, as_tuple=False).squeeze().tolist()\n",
    "\n",
    "    print(zero_indices)\n",
    "\n",
    "    # 如果没有0的元素，跳过该 tensor 的处理\n",
    "    if not isinstance(zero_indices, list):\n",
    "        zero_indices = [zero_indices]\n",
    "\n",
    "    # 从 list1 中移除为 0 的元素\n",
    "    filtered_tensor1 = torch.tensor([val for idx, val in enumerate(list1[i]) if idx not in zero_indices])\n",
    "\n",
    "    # 从 list2 中移除相同位置的元素\n",
    "    filtered_tensor2 = torch.tensor([val for idx, val in enumerate(list2[i]) if idx not in zero_indices])\n",
    "\n",
    "    # 将去除后的 tensor 保存到新的列表中\n",
    "    filtered_list1.append(filtered_tensor1)\n",
    "    filtered_list2.append(filtered_tensor2)\n",
    "\n",
    "# 输出去除后的结果\n",
    "print(\"Filtered List 1:\", filtered_list1)\n",
    "print(\"Filtered List 2:\", filtered_list2)\n"
   ]
  },
  {
   "cell_type": "code",
   "execution_count": 5,
   "id": "ec0125ca-af7c-4a48-8717-de835b5048cb",
   "metadata": {},
   "outputs": [
    {
     "name": "stdout",
     "output_type": "stream",
     "text": [
      "Filtered List 1: [tensor([1, 3, 5, 6]), tensor([ 4,  7,  8, 10, 12, 13])]\n",
      "Filtered List 2: [tensor([ 8, 10, 12, 13]), tensor([14, 16, 17, 19, 20, 21])]\n"
     ]
    }
   ],
   "source": [
    "#import torch\n",
    "\n",
    "# 假设两个 tensor 列表，支持任意维度\n",
    "list1 = [torch.tensor([[1, 0, 3], [0, 5, 6]]), torch.tensor([[[4, 0], [7, 8]], [[0, 10], [12, 13]]])]\n",
    "list2 = [torch.tensor([[8, 9, 10], [11, 12, 13]]), torch.tensor([[[14, 15], [16, 17]], [[18, 19], [20, 21]]])]\n",
    "\n",
    "# 保存去除0元素后的 tensor 列表\n",
    "filtered_list1 = []\n",
    "filtered_list2 = []\n",
    "\n",
    "for i in range(len(list1)):\n",
    "    # 获取 list1 中 tensor 为 0 的元素的多维索引\n",
    "    zero_indices = torch.nonzero(list1[i] == 0, as_tuple=False)\n",
    "\n",
    "    # 将 list1 中非 0 的元素保存到新的 tensor 中\n",
    "    non_zero_elements_list1 = [list1[i][tuple(idx)].item() for idx in torch.nonzero(list1[i] != 0)]\n",
    "    filtered_tensor1 = torch.tensor(non_zero_elements_list1)\n",
    "\n",
    "    # 将 list2 中相应位置的元素也去除\n",
    "    non_zero_elements_list2 = [list2[i][tuple(idx)].item() for idx in torch.nonzero(list1[i] != 0)]\n",
    "    filtered_tensor2 = torch.tensor(non_zero_elements_list2)\n",
    "\n",
    "    # 将去除后的 tensor 保存到新的列表中\n",
    "    filtered_list1.append(filtered_tensor1)\n",
    "    filtered_list2.append(filtered_tensor2)\n",
    "\n",
    "# 输出去除后的结果\n",
    "print(\"Filtered List 1:\", filtered_list1)\n",
    "print(\"Filtered List 2:\", filtered_list2)\n"
   ]
  },
  {
   "cell_type": "code",
   "execution_count": null,
   "id": "260bb9d6-75bb-48c5-8e4b-56dfc8142652",
   "metadata": {},
   "outputs": [],
   "source": []
  }
 ],
 "metadata": {
  "kernelspec": {
   "display_name": "pytorch",
   "language": "python",
   "name": "pytorch"
  },
  "language_info": {
   "codemirror_mode": {
    "name": "ipython",
    "version": 3
   },
   "file_extension": ".py",
   "mimetype": "text/x-python",
   "name": "python",
   "nbconvert_exporter": "python",
   "pygments_lexer": "ipython3",
   "version": "3.12.3"
  }
 },
 "nbformat": 4,
 "nbformat_minor": 5
}
