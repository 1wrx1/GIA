{
 "cells": [
  {
   "cell_type": "code",
   "execution_count": 1,
   "id": "7116a0c3",
   "metadata": {},
   "outputs": [
    {
     "name": "stderr",
     "output_type": "stream",
     "text": [
      "/home/u3637153/.local/lib/python3.12/site-packages/tqdm/auto.py:21: TqdmWarning: IProgress not found. Please update jupyter and ipywidgets. See https://ipywidgets.readthedocs.io/en/stable/user_install.html\n",
      "  from .autonotebook import tqdm as notebook_tqdm\n"
     ]
    }
   ],
   "source": [
    "import matplotlib.pyplot as plt\n",
    "import torch\n",
    "import torch.nn as nn\n",
    "from torchvision import models, datasets, transforms\n",
    "import numpy as np\n",
    "from models.vision import LeNetMnist, weights_init, LeNet\n",
    "from utils import label_to_onehot, cross_entropy_for_onehot\n",
    "from tqdm import tqdm\n",
    "from scipy.optimize import linear_sum_assignment\n",
    "import lpips\n",
    "import os"
   ]
  },
  {
   "cell_type": "code",
   "execution_count": 2,
   "id": "7f20fb28-07ce-4e9c-8462-627855c0e427",
   "metadata": {},
   "outputs": [],
   "source": [
    "#Change Checkpoints Path\n",
    "\n",
    "checkpoint_name = 'LTI-checkpoints/CIFAR10_LeNet_MLP-10000_batch-16_0.0001_5000_256_best.pt'"
   ]
  },
  {
   "cell_type": "code",
   "execution_count": 3,
   "id": "47386671-24a1-4fa0-a62b-568d51092a7f",
   "metadata": {},
   "outputs": [],
   "source": [
    "checkpoint = torch.load(checkpoint_name)"
   ]
  },
  {
   "cell_type": "code",
   "execution_count": 8,
   "id": "51ca0f0a-606b-49b1-a037-13e7039d0e4e",
   "metadata": {},
   "outputs": [],
   "source": [
    "gt = checkpoint['gt_data']\n",
    "rec = checkpoint['reconstructed_imgs']"
   ]
  },
  {
   "cell_type": "code",
   "execution_count": 9,
   "id": "fbd16531-25b2-4436-bb4f-d49c2b1b65b2",
   "metadata": {},
   "outputs": [
    {
     "name": "stdout",
     "output_type": "stream",
     "text": [
      "torch.Size([50000, 3, 64, 64])\n",
      "torch.Size([50000, 3, 64, 64])\n"
     ]
    }
   ],
   "source": [
    "print(gt.shape)\n",
    "print(rec.shape)"
   ]
  },
  {
   "cell_type": "code",
   "execution_count": 22,
   "id": "dea8acaa-142c-4c17-8c2b-394964aed5a1",
   "metadata": {},
   "outputs": [],
   "source": [
    "idxs = []\n",
    "\n",
    "for i in range(64):\n",
    "    idxs.append(48 + i)"
   ]
  },
  {
   "cell_type": "code",
   "execution_count": 23,
   "id": "61d2a46b-98d8-4d94-957f-995be16ceba3",
   "metadata": {},
   "outputs": [],
   "source": [
    "rec_64 = rec[idxs].cpu()\n",
    "gt_64 = gt[idxs].cpu()"
   ]
  },
  {
   "cell_type": "code",
   "execution_count": 24,
   "id": "387a788a-c982-4443-b790-f55273df2ad8",
   "metadata": {},
   "outputs": [],
   "source": [
    "mean = [0.4914672374725342, 0.4822617471218109, 0.4467701315879822]\n",
    "std = [0.24703224003314972, 0.24348513782024384, 0.26158785820007324]\n",
    "\n",
    "s = torch.tensor(std).view(3, 1, 1)\n",
    "\n",
    "dm = torch.as_tensor(mean)[:, None, None]\n",
    "ds = torch.as_tensor(std)[:, None, None]"
   ]
  },
  {
   "cell_type": "code",
   "execution_count": 25,
   "id": "76f9bd9e-d4ea-4c28-9406-c55ad88faa1e",
   "metadata": {},
   "outputs": [],
   "source": [
    "rec_64_norm = (rec_64 - dm) / ds\n",
    "gt_64_norm = (gt_64 - dm) / ds"
   ]
  },
  {
   "cell_type": "code",
   "execution_count": 26,
   "id": "9c0205f2-4b1e-4adf-a14f-e9224e8977b2",
   "metadata": {},
   "outputs": [
    {
     "name": "stdout",
     "output_type": "stream",
     "text": [
      "Setting up [LPIPS] perceptual loss: trunk [alex], v[0.1], spatial [off]\n",
      "Loading model from: /home/u3637153/.local/lib/python3.12/site-packages/lpips/weights/v0.1/alex.pth\n",
      "ssim:0.4115622341632843\n",
      "psnr:16.58763313293457\n",
      "lpips:0.48088008165359497\n"
     ]
    }
   ],
   "source": [
    "import lpips\n",
    "import metrics\n",
    "\n",
    "lpips_scorer = lpips.LPIPS(net=\"alex\")\n",
    "\n",
    "ssim_score = metrics.cw_ssim(rec_64_norm, gt_64_norm, scales=5)\n",
    "psnr_score = metrics.psnr(rec_64_norm, gt_64_norm, factor=1 / s)\n",
    "lpips_score = lpips_scorer(rec_64_norm, gt_64_norm, normalize=True)\n",
    "\n",
    "print(f'ssim:{ssim_score}')\n",
    "print(f'psnr:{psnr_score}')\n",
    "print(f'lpips:{lpips_score.mean()}')"
   ]
  },
  {
   "cell_type": "code",
   "execution_count": 3,
   "id": "c2857374-c281-48f8-8095-d65407598fee",
   "metadata": {},
   "outputs": [],
   "source": [
    "def grid_plot(tensor, file_name):\n",
    "    tensor = tensor.clone().detach()\n",
    "    tensor.clamp_(0, 1)\n",
    "    num_images = 64\n",
    "    if num_images == 1:\n",
    "        fig, axes = plt.subplots(1, 1, figsize=(1, 1))\n",
    "    elif num_images in [4, 8]:\n",
    "        fig, axes = plt.subplots(1, num_images, figsize=(num_images, num_images))\n",
    "    else:\n",
    "        fig, axes = plt.subplots(num_images // 8, 8, figsize=(12, num_images // 16 * 3))\n",
    "    axes = np.reshape(axes, -1)\n",
    "    for im, ax in zip(tensor, axes):\n",
    "        ax.imshow(im.permute(1, 2, 0).cpu())\n",
    "        ax.axis('off')\n",
    "    plt.subplots_adjust(wspace=0.02, hspace=0.02)\n",
    "    plt.subplots_adjust(left=0, right=1, bottom=0, top=1)\n",
    "    os.makedirs('saved_img') if not os.path.exists('saved_img') else None\n",
    "    \n",
    "    plt.savefig(file_name)"
   ]
  },
  {
   "cell_type": "code",
   "execution_count": null,
   "id": "44a72191-cec7-4d78-af7a-278448677f7d",
   "metadata": {},
   "outputs": [],
   "source": [
    "grid_plot(gt_64, 'gt.pdf')"
   ]
  },
  {
   "cell_type": "code",
   "execution_count": null,
   "id": "7aabe217-f3fc-4a1b-b9af-a479035f635f",
   "metadata": {},
   "outputs": [],
   "source": [
    "grid_plot(rec_64, 'rec.pdf')"
   ]
  },
  {
   "cell_type": "code",
   "execution_count": null,
   "id": "721dd985-7a9d-4dd2-80c4-39d234063ce4",
   "metadata": {},
   "outputs": [],
   "source": []
  }
 ],
 "metadata": {
  "kernelspec": {
   "display_name": "pytorch",
   "language": "python",
   "name": "pytorch"
  },
  "language_info": {
   "codemirror_mode": {
    "name": "ipython",
    "version": 3
   },
   "file_extension": ".py",
   "mimetype": "text/x-python",
   "name": "python",
   "nbconvert_exporter": "python",
   "pygments_lexer": "ipython3",
   "version": "3.12.3"
  }
 },
 "nbformat": 4,
 "nbformat_minor": 5
}
